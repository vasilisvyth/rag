{
 "cells": [
  {
   "cell_type": "markdown",
   "metadata": {},
   "source": [
    "Why RAG?\n",
    "\n",
    "Because the documents are domain-specific and not within the LLMs training corpus, this method allows you to provide\n",
    "additional context to the model that would otherwise be unknown. The LLM is now\n",
    "able to use the information in the context of the prompt to generate a completion that\n",
    "likely contains a more relevant answer and avoids hallucinations.\n",
    "\n",
    "A technique called chunking is typically used in building document indexes (as well as\n",
    "searching. There are different methods of chunking\n",
    "available. For example, you can use fixed-size chunking that splits data using a\n",
    "fixed number of tokens, which is an easy method and computationally efficient.\n",
    "Alternatively, you can use context-aware chunking methods, which aim to chunk data\n",
    "with more consideration around understanding the context of the data and keeping\n",
    "relevant text together. When choosing a chunking strategy, there are a few considerations to keep in mind.\n",
    "First, consider the size of your indexed content, whether it’s long documents such\n",
    "as books or shorter content like product reviews. Chunking smaller content may not\n",
    "have much impact, while chunking larger documents is not only necessary but also\n",
    "improves the ability to search for similar relevant information related to a search. Finally, there is a concept called overlap, which refers to the overlap of a defined\n",
    "amount of text between chunks. Overlap can help preserve context between chunks.\n",
    "This is another parameter to experiment with when choosing a chunking size. A popular reranking algorithm that is built into most vector stores is Maximum\n",
    "Marginal Relevance (MMR). MMR aims to maintain relevance to the input prompt\n",
    "but also reduce redundancy in the retrieved results since the retrieved results can\n",
    "often be very similar"
   ]
  }
 ],
 "metadata": {
  "language_info": {
   "name": "python"
  }
 },
 "nbformat": 4,
 "nbformat_minor": 2
}
